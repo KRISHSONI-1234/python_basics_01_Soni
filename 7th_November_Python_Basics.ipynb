{
 "cells": [
  {
   "cell_type": "markdown",
   "id": "c50490b0-66fb-4ed8-aa66-bde6d6fc8a02",
   "metadata": {},
   "source": [
    "Python Basic Variable"
   ]
  },
  {
   "cell_type": "markdown",
   "id": "d3aaaa86-24f8-49a1-82b7-ff31e3d6d7ab",
   "metadata": {},
   "source": [
    "QUESTION 1:"
   ]
  },
  {
   "cell_type": "code",
   "execution_count": null,
   "id": "c91a0203-94da-4ba5-aa00-809ce267f4c8",
   "metadata": {},
   "outputs": [],
   "source": [
    "x = 10"
   ]
  },
  {
   "cell_type": "code",
   "execution_count": 2,
   "id": "1bbb1e84-d441-429e-9806-2c62327ac26d",
   "metadata": {},
   "outputs": [],
   "source": [
    "y = 20"
   ]
  },
  {
   "cell_type": "code",
   "execution_count": 3,
   "id": "21b665bd-e05b-4eaa-b27c-50542bd9a2ce",
   "metadata": {},
   "outputs": [],
   "source": [
    "#Now to swap the values of two variables i,e x and y we will use arithmetic operation\n",
    "x = x + y\n",
    "y = x - y\n",
    "x = x - y"
   ]
  },
  {
   "cell_type": "code",
   "execution_count": 4,
   "id": "37ee75d9-ea97-40e4-9961-6c11dba15f43",
   "metadata": {},
   "outputs": [
    {
     "name": "stdout",
     "output_type": "stream",
     "text": [
      "The value of x after swaping is 20\n",
      "The value of y after swaping is 10\n"
     ]
    }
   ],
   "source": [
    "print(\"The value of x after swaping is\" , x)\n",
    "print(\"The value of y after swaping is\" , y)"
   ]
  },
  {
   "cell_type": "markdown",
   "id": "e814748f-baa4-44be-ac60-8c02d8e005bf",
   "metadata": {},
   "source": [
    "QUESTION 2:"
   ]
  },
  {
   "cell_type": "code",
   "execution_count": 10,
   "id": "3351def3-ba3b-4ddc-b143-cb97c98cebb1",
   "metadata": {},
   "outputs": [
    {
     "name": "stdin",
     "output_type": "stream",
     "text": [
      "Enter the length of the rectangle: 10\n"
     ]
    }
   ],
   "source": [
    "length = int(input(\"Enter the length of the rectangle:\"))"
   ]
  },
  {
   "cell_type": "code",
   "execution_count": 11,
   "id": "7ade9cfe-b8ce-4645-9dc3-50f0ff6e809a",
   "metadata": {},
   "outputs": [
    {
     "name": "stdin",
     "output_type": "stream",
     "text": [
      "Enter the width of the rectangle: 10\n"
     ]
    }
   ],
   "source": [
    "width = int(input(\"Enter the width of the rectangle:\"))"
   ]
  },
  {
   "cell_type": "code",
   "execution_count": 13,
   "id": "f0a35063-ece0-46f2-a846-2c3077d7ca8f",
   "metadata": {},
   "outputs": [],
   "source": [
    "area = length * width"
   ]
  },
  {
   "cell_type": "code",
   "execution_count": 14,
   "id": "8a101bae-e31d-4a92-b595-8e8127335a1a",
   "metadata": {},
   "outputs": [
    {
     "name": "stdout",
     "output_type": "stream",
     "text": [
      "The area of the rectangle is: 100\n"
     ]
    }
   ],
   "source": [
    "print(\"The area of the rectangle is:\" , area)"
   ]
  },
  {
   "cell_type": "markdown",
   "id": "b1452292-b1e6-4904-8bbe-ecddb9da0845",
   "metadata": {},
   "source": [
    "QUESTION 3:"
   ]
  },
  {
   "cell_type": "code",
   "execution_count": 15,
   "id": "bc67032e-35ca-42de-b7ed-ea480f02fab6",
   "metadata": {},
   "outputs": [
    {
     "name": "stdin",
     "output_type": "stream",
     "text": [
      "Enter the temperature into celsius degree: 100\n"
     ]
    }
   ],
   "source": [
    "celsius = int(input(\"Enter the temperature into celsius degree:\"))"
   ]
  },
  {
   "cell_type": "code",
   "execution_count": 19,
   "id": "4af617b7-ae2f-46cb-9c8a-adf255ce1cae",
   "metadata": {},
   "outputs": [],
   "source": [
    "Farenheit = int((celsius * 9/5) + 32)"
   ]
  },
  {
   "cell_type": "code",
   "execution_count": 20,
   "id": "4e870798-b8b5-4931-83ca-7d21e95bccc3",
   "metadata": {},
   "outputs": [
    {
     "name": "stdout",
     "output_type": "stream",
     "text": [
      "The temperature in farenheit is: 212\n"
     ]
    }
   ],
   "source": [
    "print(\"The temperature in farenheit is:\" , Farenheit)"
   ]
  },
  {
   "cell_type": "markdown",
   "id": "0b1f4991-6c14-4a2f-8b00-6b0d83a67142",
   "metadata": {},
   "source": [
    "String Based Questions"
   ]
  },
  {
   "cell_type": "markdown",
   "id": "2b4a34f0-2a84-4a2b-85f8-82472bd74422",
   "metadata": {},
   "source": [
    "QUESTION 1:"
   ]
  },
  {
   "cell_type": "code",
   "execution_count": 21,
   "id": "08dc45fc-7954-40b6-8fa9-3a63d88302a2",
   "metadata": {},
   "outputs": [
    {
     "name": "stdin",
     "output_type": "stream",
     "text": [
      "Enter any string which you want: krish\n"
     ]
    }
   ],
   "source": [
    "a = input(\"Enter any string which you want:\")"
   ]
  },
  {
   "cell_type": "code",
   "execution_count": 23,
   "id": "f7db744f-ce98-42f7-9f0f-796445291ea9",
   "metadata": {},
   "outputs": [
    {
     "name": "stdout",
     "output_type": "stream",
     "text": [
      "5\n"
     ]
    }
   ],
   "source": [
    "print(len(a))"
   ]
  },
  {
   "cell_type": "markdown",
   "id": "9eea992b-da14-4bba-9f56-7a65229fc4d9",
   "metadata": {},
   "source": [
    "QUESTION 2:"
   ]
  },
  {
   "cell_type": "code",
   "execution_count": 24,
   "id": "866fd77f-5a19-4285-b401-5473c8f66b11",
   "metadata": {},
   "outputs": [
    {
     "name": "stdin",
     "output_type": "stream",
     "text": [
      "Enter the sentence:  Hello my self krish\n"
     ]
    }
   ],
   "source": [
    "sentence = input(\"Enter the sentence: \")"
   ]
  },
  {
   "cell_type": "code",
   "execution_count": 25,
   "id": "a6fcaded-fa19-4f26-8a42-20701b488029",
   "metadata": {},
   "outputs": [],
   "source": [
    "vowel_cnt = 0"
   ]
  },
  {
   "cell_type": "code",
   "execution_count": 26,
   "id": "1d30a62d-76a7-42f6-8696-f586fe787eb4",
   "metadata": {},
   "outputs": [],
   "source": [
    "for char in sentence:\n",
    "    char_lower = char.lower()\n",
    "     \n",
    "    if char_lower in \"aeiou\":\n",
    "        vowel_cnt += 1\n"
   ]
  },
  {
   "cell_type": "code",
   "execution_count": 27,
   "id": "6d817683-5b47-49b5-b3ff-ba32f69b090c",
   "metadata": {},
   "outputs": [
    {
     "name": "stdout",
     "output_type": "stream",
     "text": [
      "The no of vowel in the sentence is:  4\n"
     ]
    }
   ],
   "source": [
    "print(\"The no of vowel in the sentence is: \" , vowel_cnt)"
   ]
  },
  {
   "cell_type": "markdown",
   "id": "ed4c9a42-fc2a-4686-96c0-22506334b7c3",
   "metadata": {},
   "source": [
    "QUESTION 3:"
   ]
  },
  {
   "cell_type": "code",
   "execution_count": 28,
   "id": "3b336272-5cd4-430d-a6ce-181c582e28ca",
   "metadata": {},
   "outputs": [],
   "source": [
    "given_string = \"Krish_Soni\""
   ]
  },
  {
   "cell_type": "code",
   "execution_count": 29,
   "id": "2d6cfb94-4220-4a85-8d17-7c21f7577724",
   "metadata": {},
   "outputs": [],
   "source": [
    "reversed_string = given_string[-1: :-1]"
   ]
  },
  {
   "cell_type": "code",
   "execution_count": 30,
   "id": "60f7bdcf-f923-4d13-8859-f925b883d5f9",
   "metadata": {},
   "outputs": [
    {
     "name": "stdout",
     "output_type": "stream",
     "text": [
      "The reverse order of given_string is: inoS_hsirK\n"
     ]
    }
   ],
   "source": [
    "print(\"The reverse order of given_string is:\" , reversed_string)"
   ]
  },
  {
   "cell_type": "markdown",
   "id": "499e2afe-5fa5-4535-ad95-ee1f66db52ee",
   "metadata": {},
   "source": [
    "QUESTION 4:"
   ]
  },
  {
   "cell_type": "code",
   "execution_count": 37,
   "id": "8823212a-4cad-4373-83c1-7117321e371b",
   "metadata": {},
   "outputs": [
    {
     "name": "stdin",
     "output_type": "stream",
     "text": [
      "Enter the string:  isi\n"
     ]
    }
   ],
   "source": [
    "input_string = input(\"Enter the string: \")"
   ]
  },
  {
   "cell_type": "code",
   "execution_count": 39,
   "id": "b3c559c8-17af-46d4-9302-487dda612dfa",
   "metadata": {},
   "outputs": [],
   "source": [
    "clear_string = input_string.replace(\" \" , \"\").lower()"
   ]
  },
  {
   "cell_type": "code",
   "execution_count": 40,
   "id": "f1c38dfb-4034-42ea-8517-c23bfef23d33",
   "metadata": {},
   "outputs": [],
   "source": [
    "reverse_string = clear_string[: :-1]"
   ]
  },
  {
   "cell_type": "code",
   "execution_count": 41,
   "id": "0a26027c-56c5-4813-a0e0-9eb249487c63",
   "metadata": {},
   "outputs": [
    {
     "name": "stdout",
     "output_type": "stream",
     "text": [
      "This is a palindrome\n"
     ]
    }
   ],
   "source": [
    "if clear_string == reverse_string:\n",
    "    print(\"This is a palindrome\")\n",
    "else:\n",
    "    print(\"This is not a palindrome\")\n"
   ]
  },
  {
   "cell_type": "markdown",
   "id": "9fd92e36-f417-4ccd-9702-0d383a965b24",
   "metadata": {},
   "source": [
    "QUESTION 5:"
   ]
  },
  {
   "cell_type": "code",
   "execution_count": 42,
   "id": "60382419-96fd-447a-8240-90ea0b6c5ef3",
   "metadata": {},
   "outputs": [
    {
     "name": "stdin",
     "output_type": "stream",
     "text": [
      "Enter the string:  Hello krish is here\n"
     ]
    }
   ],
   "source": [
    "input_string = input(\"Enter the string: \")"
   ]
  },
  {
   "cell_type": "code",
   "execution_count": 45,
   "id": "a1b61f76-2bea-42d2-88d3-a8328997a6ca",
   "metadata": {},
   "outputs": [],
   "source": [
    "groomed_string = \"\""
   ]
  },
  {
   "cell_type": "code",
   "execution_count": 46,
   "id": "60d64c54-81a6-489e-961b-fba75714d0cb",
   "metadata": {},
   "outputs": [],
   "source": [
    "for char in input_string:\n",
    "    if char != \" \":\n",
    "        groomed_string += char"
   ]
  },
  {
   "cell_type": "code",
   "execution_count": 47,
   "id": "217a250f-ee04-4b1f-a92b-b950ef57e4c2",
   "metadata": {},
   "outputs": [
    {
     "name": "stdout",
     "output_type": "stream",
     "text": [
      "The modified string having no spaces is: Hellokrishishere\n"
     ]
    }
   ],
   "source": [
    "print(\"The modified string having no spaces is:\" , groomed_string)"
   ]
  },
  {
   "cell_type": "code",
   "execution_count": null,
   "id": "2f17ed3c-a50c-445a-b3a0-5823f8df1fab",
   "metadata": {},
   "outputs": [],
   "source": []
  }
 ],
 "metadata": {
  "kernelspec": {
   "display_name": "Python 3 (ipykernel)",
   "language": "python",
   "name": "python3"
  },
  "language_info": {
   "codemirror_mode": {
    "name": "ipython",
    "version": 3
   },
   "file_extension": ".py",
   "mimetype": "text/x-python",
   "name": "python",
   "nbconvert_exporter": "python",
   "pygments_lexer": "ipython3",
   "version": "3.10.8"
  }
 },
 "nbformat": 4,
 "nbformat_minor": 5
}
